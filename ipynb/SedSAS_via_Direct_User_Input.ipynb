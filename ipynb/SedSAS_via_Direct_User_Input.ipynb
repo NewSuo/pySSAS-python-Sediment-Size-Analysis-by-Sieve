{
 "cells": [
  {
   "cell_type": "markdown",
   "metadata": {
    "slideshow": {
     "slide_type": "slide"
    }
   },
   "source": [
    "# Sediment Size Analysis by Sieve (SedSAS) Class  Usage Guide  \n",
    "\n",
    "### Using the SedSAS class with single user data sample input entered directly into the script"
   ]
  },
  {
   "cell_type": "markdown",
   "metadata": {
    "slideshow": {
     "slide_type": "slide"
    }
   },
   "source": [
    "## Part I: Introduction:\n",
    "\n",
    "SedSAS is a class object written in the Python programming (scripting) language. Its purpose is to provide a basic set of statistical and visualization tools for analyzing unconsolidated sediment size-fraction samples collected in the field and separated using either mechanical sieves or any other analog partition-by-size methods. "
   ]
  },
  {
   "cell_type": "markdown",
   "metadata": {},
   "source": [
    "#### Single-Sample Processing:"
   ]
  },
  {
   "cell_type": "markdown",
   "metadata": {},
   "source": [
    "In this notebook we look at how the class is used to computer grain-size statistics for a single sample, where the user elects to simply enter the sieve apertures and subsample weights by hand directly into this notebook or their script. \n",
    "\n",
    "You can use this notebook not only as a learning tool or reference but also as a template from which to directly conduct your own analyses. To do the latter, simply download a copy and replace the existing example data sieve apertures and subsample weights with your own and run. \n",
    "\n",
    "The downloaded notebook can be further modified, or copied and then the copy modified, as you see fit. "
   ]
  },
  {
   "cell_type": "markdown",
   "metadata": {},
   "source": [
    "#### What we'll do..."
   ]
  },
  {
   "cell_type": "markdown",
   "metadata": {},
   "source": [
    "1.) Load data from a supplied Python list object into a Pandas dataframe <br/>\n",
    "2.) Rework the contents of the new Pandas dataframe so as to meet the input and format requirements of SedSAS <br/>\n",
    "3.) Compute grain-size statistics by calling statistics computation methods individually<br/>\n",
    "4.) Write the results to a new Pandas dataframe and display the contents in the notebook <br/>\n",
    "5.) Find the modes and list these in the notebook\n",
    "6.) Recompute grain-size statistics this time using the convenience method ComputeGSStats.\n",
    "    ComputeGSStats() computes all the available statistics, including the first three modes (if they all exist) in a single method call <br/>\n",
    "7.) Retrieve and print to the notebook the weights table (the original dataframe plus the additional content added automatically by SedSAS) and the Folk and Ward Inclusive Graphics quantiles list. <br/>\n",
    "8.) Create histogram and cumulative density function plots for the sample. <br/>\n",
    "9.) Save the contents of the new results dataframe to a new csv file <br/>"
   ]
  },
  {
   "cell_type": "markdown",
   "metadata": {},
   "source": [
    "### Preliminaries:\n",
    "- The SedSAS class, this notebook, and all supporting materials were developed in a Python 3.x environment. Neither the class nor any of these supporting materials have been tested using a Python 2.x distro. *Backward compatibility is expected, but not assured.*\n",
    "    \n",
    "- If you do not have a Python interpreter installed on your computer (from the factory Linux UNIX, and MacOS users do; Windows users likely do not), your best bet for a trouble-free installation experience can be had here: https://anaconda.org/anaconda/python. If you're more adventurous, try the Python Software Foundation: https://www.python.org/getit/. Even if your OS does come with a Python interpreter already in place (UNIX, Linux, MacOS), it's probably a good idea to get a more up to date release (most OS installs are a version, or more, behind the current release). Again, I suggest the Anaconda distribution. Be sure to get a copy of Python version 3.5 or later.  \n",
    "- Required external Python Libraries and modules\\*\\*:\n",
    "    - sys (basic Python methods for retrieving information from the host operating system)\n",
    "    - numpy (numeric Python library for array and matrix operations)\n",
    "    - pandas (Python Data Analysis library for in-memory data storage and analysis)\n",
    "    - matlotlib (Matrix Plotting Library for plot generation) \n",
    "    \n",
    "    \n",
    "- Loading SedSAS.py into your script: to use the class it must first be loaded into your script or notebook environment. If the class script file is located in the same directory as your analysis script then to load it you need only do the following:\n",
    "    \n",
    "    import  sedSAS\n",
    "    \n",
    "If the SedSAS.py file is located elsewhere on your computer or server you'll have to point Python to its location by amending the local path variable\\*\\*\\*:\n",
    "\n",
    "    import sys\n",
    "    sys.path.append(/full/path/to/directory/where/class/file/is/located/)\n",
    "    \n",
    "For example, if your copy of SedSAS.py is located in the directory: \n",
    "\n",
    "    /Users/Documents/projects/ \n",
    "    \n",
    "enter this into the sys.path.append method as:\n",
    "\n",
    "    import sys\n",
    "    sys.path.append(/Users/Documents/projects/)\n",
    "\n",
    "\n",
    "______________\n",
    "\\*\\*Note that these, and many, many other libraries, are included in the default Anaconda Python distribution.\n",
    "\n",
    "\\*\\*\\* Note that you are not changing your operating system's global PATH variable, only a copy of it that is assigned to the environment tied to your script or notebook. The global PATH variable is not altered"
   ]
  },
  {
   "cell_type": "markdown",
   "metadata": {
    "slideshow": {
     "slide_type": "slide"
    }
   },
   "source": [
    "#### Required User Inputs:\n",
    "Initial data input to SedSAS during the instantiation process consists of:\n",
    "\n",
    "1. a listing of all the sieve apertures (in $\\phi$ units) used in the analysis (sorted descending by size)\n",
    "2. the weight of sediment material captured by each sieve \n",
    "\n",
    "These data must be passed to SedSAS inside a Pandas dataframe where the first column contains the aperture sizes in order as in the actual stack and where the second column contains the sediment weight.\n",
    "\n",
    "A unique identifier for the sample can optionally be passed to SedSAS at the time of instantiation. Note that SedSAS doesn't really care if you provide a unique identifier, nor is it particular about how you choose to format the id. The identifier is more for the user and tracking than for code execution and so from a functional point of view, it's not even a requiremment. Nevertheless, it makes sense to provide something that helps to track what's in process, especially if you want to distinguish between samples when multiple samples are run in succession. If you wish to forego an id, the class will assign the default value: '1' as id each time the the class is instantiated."
   ]
  },
  {
   "cell_type": "code",
   "execution_count": null,
   "metadata": {},
   "outputs": [],
   "source": []
  },
  {
   "cell_type": "markdown",
   "metadata": {
    "slideshow": {
     "slide_type": "slide"
    }
   },
   "source": [
    "## Part II: Examples: using the class:"
   ]
  },
  {
   "cell_type": "markdown",
   "metadata": {},
   "source": [
    "#### Computing grain-size statistics for a single user-supplied data sample. Here, the user enters data by hand:\n",
    "\n",
    "The sieves used (in stack order) in this example are: -1.0$\\phi$, -0.5$\\phi$, 0.0$\\phi$, 0.5$\\phi$, 1.0$\\phi$, 1.25$\\phi$, 1.5$\\phi$, 1.75$\\phi$, 2.0$\\phi$, 2.5$\\phi$, 3.0$\\phi$, 3.5$\\phi$, and 4.0$\\phi$\n",
    "\n",
    "And the concomitant sediment weights (in gms): 5.94, 6.96, 3.4, 2.69, 2.33, 2.41, 1.74, 2.15, 1.83, 1.6, 0.62, 0.41, 0.28 \n",
    "\n",
    "And, the SedSAS.py script file is located in the same directory as is my (this) Jupyter notebook.\n"
   ]
  },
  {
   "cell_type": "code",
   "execution_count": 1,
   "metadata": {},
   "outputs": [
    {
     "data": {
      "text/html": [
       "<div>\n",
       "<style scoped>\n",
       "    .dataframe tbody tr th:only-of-type {\n",
       "        vertical-align: middle;\n",
       "    }\n",
       "\n",
       "    .dataframe tbody tr th {\n",
       "        vertical-align: top;\n",
       "    }\n",
       "\n",
       "    .dataframe thead th {\n",
       "        text-align: right;\n",
       "    }\n",
       "</style>\n",
       "<table border=\"1\" class=\"dataframe\">\n",
       "  <thead>\n",
       "    <tr style=\"text-align: right;\">\n",
       "      <th></th>\n",
       "      <th>Aperture</th>\n",
       "      <th>Weight</th>\n",
       "    </tr>\n",
       "  </thead>\n",
       "  <tbody>\n",
       "    <tr>\n",
       "      <th>0</th>\n",
       "      <td>1</td>\n",
       "      <td>1.1</td>\n",
       "    </tr>\n",
       "    <tr>\n",
       "      <th>1</th>\n",
       "      <td>2</td>\n",
       "      <td>17.9</td>\n",
       "    </tr>\n",
       "    <tr>\n",
       "      <th>2</th>\n",
       "      <td>3</td>\n",
       "      <td>51.0</td>\n",
       "    </tr>\n",
       "    <tr>\n",
       "      <th>3</th>\n",
       "      <td>4</td>\n",
       "      <td>27.5</td>\n",
       "    </tr>\n",
       "    <tr>\n",
       "      <th>4</th>\n",
       "      <td>5</td>\n",
       "      <td>2.5</td>\n",
       "    </tr>\n",
       "  </tbody>\n",
       "</table>\n",
       "</div>"
      ],
      "text/plain": [
       "   Aperture  Weight\n",
       "0         1     1.1\n",
       "1         2    17.9\n",
       "2         3    51.0\n",
       "3         4    27.5\n",
       "4         5     2.5"
      ]
     },
     "execution_count": 1,
     "metadata": {},
     "output_type": "execute_result"
    }
   ],
   "source": [
    "import pandas as pd      \n",
    "import numpy as np\n",
    "import sys\n",
    "import SedSAS\n",
    "\n",
    "## user-supplied data set submitted by hand as a Python dictionary. A  dictionary stores\n",
    "## data as key-value pairs. Here, the keys represent the names of the columns (Aperture and\n",
    "## Weight). The values are Python lists containing the sieve aperture sizes, and concomitant\n",
    "## sample weights, respectively. NOTE: the first dictionary listed below (commented out) is\n",
    "## data taken from an example in Folk, 1966, Table 1: Example of Moment Calculation.\n",
    "\n",
    "#dic={'Aperture':[1,2,3,4,5], 'Weight':[1.1,17.9,51.0,27.5,2.5]}\n",
    "dic={'Aperture':[-1.0,-0.5,0.0,0.5,1.0,1.25,1.5,1.75,2.0,2.5,3.0,3.5,4.0 ],\n",
    "     'Weight':[5.94, 6.96, 3.4, 2.69 ,2.33 ,2.41 , 1.74 ,2.15 ,1.83 , 1.6 ,0.62 ,0.41 ,0.28 ] \n",
    "    }\n",
    "\n",
    "## run this script to see the resulting dataframe, df:\n",
    "df=pd.DataFrame( dic )\n",
    "df"
   ]
  },
  {
   "cell_type": "code",
   "execution_count": 2,
   "metadata": {
    "collapsed": false
   },
   "outputs": [
    {
     "name": "stdout",
     "output_type": "stream",
     "text": [
      "\n",
      "\n",
      " Processing sample:  S1\n"
     ]
    },
    {
     "data": {
      "text/html": [
       "<div>\n",
       "<style scoped>\n",
       "    .dataframe tbody tr th:only-of-type {\n",
       "        vertical-align: middle;\n",
       "    }\n",
       "\n",
       "    .dataframe tbody tr th {\n",
       "        vertical-align: top;\n",
       "    }\n",
       "\n",
       "    .dataframe thead th {\n",
       "        text-align: right;\n",
       "    }\n",
       "</style>\n",
       "<table border=\"1\" class=\"dataframe\">\n",
       "  <thead>\n",
       "    <tr style=\"text-align: right;\">\n",
       "      <th></th>\n",
       "      <th>Folk&amp;Ward Descript</th>\n",
       "      <th>Folk&amp;Ward Soln.</th>\n",
       "      <th>McCammon Descript</th>\n",
       "      <th>McCammon Soln.</th>\n",
       "      <th>Method of Moments Soln.</th>\n",
       "      <th>Method of Moments Descript</th>\n",
       "    </tr>\n",
       "  </thead>\n",
       "  <tbody>\n",
       "    <tr>\n",
       "      <th>Mean</th>\n",
       "      <td>Fine Sand</td>\n",
       "      <td>2.650</td>\n",
       "      <td>Fine Sand</td>\n",
       "      <td>2.618</td>\n",
       "      <td>2.624</td>\n",
       "      <td>Fine Sand</td>\n",
       "    </tr>\n",
       "    <tr>\n",
       "      <th>Sorting</th>\n",
       "      <td>Moderately sorted</td>\n",
       "      <td>0.827</td>\n",
       "      <td>Moderately sorted</td>\n",
       "      <td>0.828</td>\n",
       "      <td>0.763</td>\n",
       "      <td>Moderately sorted</td>\n",
       "    </tr>\n",
       "    <tr>\n",
       "      <th>Skewness</th>\n",
       "      <td>Near symmetrical</td>\n",
       "      <td>0.021</td>\n",
       "      <td>-</td>\n",
       "      <td>-</td>\n",
       "      <td>-0.024</td>\n",
       "      <td>Symmetrical</td>\n",
       "    </tr>\n",
       "    <tr>\n",
       "      <th>Kurtosis</th>\n",
       "      <td>Mesokurtic</td>\n",
       "      <td>1.037</td>\n",
       "      <td>-</td>\n",
       "      <td>-</td>\n",
       "      <td>2.895</td>\n",
       "      <td>Mesokurtic</td>\n",
       "    </tr>\n",
       "  </tbody>\n",
       "</table>\n",
       "</div>"
      ],
      "text/plain": [
       "         Folk&Ward Descript  Folk&Ward Soln.  McCammon Descript  \\\n",
       "Mean              Fine Sand            2.650          Fine Sand   \n",
       "Sorting   Moderately sorted            0.827  Moderately sorted   \n",
       "Skewness   Near symmetrical            0.021                  -   \n",
       "Kurtosis         Mesokurtic            1.037                  -   \n",
       "\n",
       "         McCammon Soln.  Method of Moments Soln. Method of Moments Descript  \n",
       "Mean              2.618                    2.624                  Fine Sand  \n",
       "Sorting           0.828                    0.763          Moderately sorted  \n",
       "Skewness              -                   -0.024                Symmetrical  \n",
       "Kurtosis              -                    2.895                 Mesokurtic  "
      ]
     },
     "execution_count": 2,
     "metadata": {},
     "output_type": "execute_result"
    }
   ],
   "source": [
    "ID = 'S1'            # user-supplied id\n",
    "\n",
    "## create a class instance:\n",
    "ssc = SedSAS.SedSAS(df, ID )\n",
    "\n",
    "# call function to compute Folk and Ward logarithmic inclusive graphic statistics\n",
    "gs = ssc.ComputeFWLogInclusiveGraphicsStats(return_description=True)    \n",
    "                                                   \n",
    "# call function to compute statistics via method of moments (geometric soln.)\n",
    "gm = ssc.ComputeMcCammonHiEffGraphicStats(return_description=True)    \n",
    "                                                       \n",
    "# call function to compute statistics via method of moments (logarithmic soln.)\n",
    "lm = ssc.ComputeLogarithmicMethodofMomentsStats(return_description=True)   \n",
    "                                                       \n",
    "## The statistics generating functions in SedSAS return results each in a pair of Python \n",
    "## lists in a list. The first list contains the 4 computed moment statistics (mean, sorting,\n",
    "## skewness, and kurtosis). The second list contains the optional textural descriptions. By\n",
    "## default the textural descriptions are not included and so would, by default, return an\n",
    "## empty second list.\n",
    "## list contents mapped as follows: \n",
    "## for the first list: [0] the mean; [1] sorting;  [2] skewness; [3] kurtosis \n",
    "## for the second list: [0] -; [1] sorting description; [2] skewness description\n",
    "## [3] kurtosis description \n",
    "\n",
    "## place results in a Python dictionary for use in building an output dataframe. We don't \n",
    "## have to build a dataframe, but it makes things a bit easier in dealing with the returned\n",
    "## contents:\n",
    "dic_out={\n",
    "        'Folk&Ward Descript': gs[1],\n",
    "        'Folk&Ward Soln.': gs[0],\n",
    "        'McCammon Descript': gm[1],\n",
    "        'McCammon Soln.': gm[0],\n",
    "        'Method of Moments Soln.': lm[0],\n",
    "        'Method of Moments Descript': lm[1]\n",
    "        }\n",
    "\n",
    "## create the output dataframe and write to screen:\n",
    "df_out=pd.DataFrame(dic_out, index=['Mean','Sorting','Skewness','Kurtosis'])\n",
    "df_out"
   ]
  },
  {
   "cell_type": "markdown",
   "metadata": {},
   "source": [
    "#### Find the mode(s) for the current sample:"
   ]
  },
  {
   "cell_type": "code",
   "execution_count": null,
   "metadata": {},
   "outputs": [],
   "source": [
    "## Modes are returned as Python tuples enclosed in a Python list. The first\n",
    "## value in each tuple is the mode in phi units, the second in millimeter units.\n",
    "## Modes are placed in the list in order of sifnificance with the primary first,\n",
    "## followed by the secondary, then last, but not necessarily the least, the teriary.\n",
    "## Only the first three modes (if that many exist) are found in a sample.\n",
    "\n",
    "ssc.FindSampleModes()"
   ]
  },
  {
   "cell_type": "markdown",
   "metadata": {},
   "source": [
    "### Using the SedSAS 'convenience' method ComputeGSStats() to quickly compute statistics:"
   ]
  },
  {
   "cell_type": "code",
   "execution_count": 3,
   "metadata": {},
   "outputs": [
    {
     "name": "stdout",
     "output_type": "stream",
     "text": [
      "\n",
      "\n",
      " Processing sample:  S1\n",
      "WARNING: percent of coarsest fraction in sample S1 is:\n",
      "18.36 percent. This exceeds 5% of total by weight.\n",
      "Values in excess of 5% can introduce significant error in some analyses.\n",
      "\n",
      "WARNING: 5% quantile < min cum wt%, extrapolating solution\n",
      "WARNING: 10% quantile < min cum wt%, extrapolating solution\n",
      "WARNING: 16% quantile < min cum wt%, extrapolating solution\n",
      "WARNING: 5% quantile < min cum wt%, extrapolating solution\n",
      "WARNING: 15% quantile < min cum wt%, extrapolating solution\n",
      "WARNING: 3% quantile < min cum wt%, extrapolating solution\n",
      "WARNING: 10% quantile < min cum wt%, extrapolating solution\n",
      "WARNING! Number of modes in sample is 3 Textural shape descriptions of a\n",
      "multimodal sample distribution are unreliable or possibly even nonsensical.\n"
     ]
    },
    {
     "data": {
      "text/html": [
       "<div>\n",
       "<style scoped>\n",
       "    .dataframe tbody tr th:only-of-type {\n",
       "        vertical-align: middle;\n",
       "    }\n",
       "\n",
       "    .dataframe tbody tr th {\n",
       "        vertical-align: top;\n",
       "    }\n",
       "\n",
       "    .dataframe thead th {\n",
       "        text-align: right;\n",
       "    }\n",
       "</style>\n",
       "<table border=\"1\" class=\"dataframe\">\n",
       "  <thead>\n",
       "    <tr style=\"text-align: right;\">\n",
       "      <th></th>\n",
       "      <th>FWLogMean</th>\n",
       "      <th>FWLogSort</th>\n",
       "      <th>FWLogSkew</th>\n",
       "      <th>FWLogKurt</th>\n",
       "      <th>FWLogSizeClass</th>\n",
       "      <th>FWLogSortCLass</th>\n",
       "      <th>FWLogSkewClass</th>\n",
       "      <th>FWLogKurtClass</th>\n",
       "      <th>McLogMean</th>\n",
       "      <th>McLogSort</th>\n",
       "      <th>...</th>\n",
       "      <th>MoMLogSizeClass</th>\n",
       "      <th>MoMLogSortCLass</th>\n",
       "      <th>MoMLogSkewClass</th>\n",
       "      <th>MoMLogKurtClass</th>\n",
       "      <th>PrimaryMode_phi</th>\n",
       "      <th>PrimaryMode_mm</th>\n",
       "      <th>SecondaryMode_phi</th>\n",
       "      <th>SecondaryMode_mm</th>\n",
       "      <th>TertiaryMode_phi</th>\n",
       "      <th>TertiaryMode_mm</th>\n",
       "    </tr>\n",
       "  </thead>\n",
       "  <tbody>\n",
       "    <tr>\n",
       "      <th>0</th>\n",
       "      <td>0.184</td>\n",
       "      <td>1.333</td>\n",
       "      <td>0.194</td>\n",
       "      <td>0.779</td>\n",
       "      <td>Coarse Sand</td>\n",
       "      <td>Poorly sorted</td>\n",
       "      <td>Fine skewed</td>\n",
       "      <td>Platykurtic</td>\n",
       "      <td>0.206</td>\n",
       "      <td>1.363</td>\n",
       "      <td>...</td>\n",
       "      <td>Coarse Sand</td>\n",
       "      <td>Poorly sorted</td>\n",
       "      <td>Symmetrical</td>\n",
       "      <td>Platykurtic</td>\n",
       "      <td>-0.5</td>\n",
       "      <td>1.414214</td>\n",
       "      <td>1.25</td>\n",
       "      <td>0.420448</td>\n",
       "      <td>1.75</td>\n",
       "      <td>0.297302</td>\n",
       "    </tr>\n",
       "  </tbody>\n",
       "</table>\n",
       "<p>1 rows × 38 columns</p>\n",
       "</div>"
      ],
      "text/plain": [
       "   FWLogMean  FWLogSort  FWLogSkew  FWLogKurt FWLogSizeClass FWLogSortCLass  \\\n",
       "0      0.184      1.333      0.194      0.779    Coarse Sand  Poorly sorted   \n",
       "\n",
       "  FWLogSkewClass FWLogKurtClass  McLogMean  McLogSort       ...         \\\n",
       "0    Fine skewed    Platykurtic      0.206      1.363       ...          \n",
       "\n",
       "  MoMLogSizeClass MoMLogSortCLass MoMLogSkewClass MoMLogKurtClass  \\\n",
       "0     Coarse Sand   Poorly sorted     Symmetrical     Platykurtic   \n",
       "\n",
       "  PrimaryMode_phi PrimaryMode_mm  SecondaryMode_phi  SecondaryMode_mm  \\\n",
       "0            -0.5       1.414214               1.25          0.420448   \n",
       "\n",
       "   TertiaryMode_phi  TertiaryMode_mm  \n",
       "0              1.75         0.297302  \n",
       "\n",
       "[1 rows x 38 columns]"
      ]
     },
     "execution_count": 3,
     "metadata": {},
     "output_type": "execute_result"
    }
   ],
   "source": [
    "ID = 'S1'            # user-supplied id\n",
    "\n",
    "## create a class instance:\n",
    "ssc = SedSAS.SedSAS(df, ID )\n",
    "d=ssc.ComputeGSStats()\n",
    "\n",
    "df_out=pd.DataFrame(d, index=[0])\n",
    "df_out"
   ]
  },
  {
   "cell_type": "markdown",
   "metadata": {},
   "source": [
    "#### Printing the Weights Dataframe (table) and Quantiles List to the screen (optional):"
   ]
  },
  {
   "cell_type": "code",
   "execution_count": 4,
   "metadata": {
    "collapsed": false
   },
   "outputs": [
    {
     "name": "stdout",
     "output_type": "stream",
     "text": [
      "    Aperture  Weight  Weight_Percent  Cum_Weight_Percent  MidPt_phi  MidPt_mm\n",
      "0      -1.00    5.94       18.355995           18.355995     -1.500  2.828427\n",
      "1      -0.50    6.96       21.508035           39.864030     -0.750  1.681793\n",
      "2       0.00    3.40       10.506799           50.370828     -0.250  1.189207\n",
      "3       0.50    2.69        8.312732           58.683560      0.250  0.840896\n",
      "4       1.00    2.33        7.200247           65.883807      0.750  0.594604\n",
      "5       1.25    2.41        7.447466           73.331273      1.125  0.458502\n",
      "6       1.50    1.74        5.377009           78.708282      1.375  0.385553\n",
      "7       1.75    2.15        6.644005           85.352287      1.625  0.324210\n",
      "8       2.00    1.83        5.655130           91.007417      1.875  0.272627\n",
      "9       2.50    1.60        4.944376           95.951792      2.250  0.210224\n",
      "10      3.00    0.62        1.915946           97.867738      2.750  0.148651\n",
      "11      3.50    0.41        1.266996           99.134734      3.250  0.105112\n",
      "12      4.00    0.28        0.865266          100.000000      3.750  0.074325\n",
      "WARNING: 3% quantile < min cum wt%, extrapolating solution\n",
      "WARNING: 10% quantile < min cum wt%, extrapolating solution\n",
      "WARNING: 16% quantile < min cum wt%, extrapolating solution\n",
      "[-1.837, -1.455, -1.128, -0.846, -0.018, 1.328, 1.699, 1.955, 2.404]\n"
     ]
    }
   ],
   "source": [
    "## after creating a instance of the SedSAS class (as per the script above):\n",
    "\n",
    "print(ssc.ReturnWeightsData())\n",
    "print(ssc.ReturnQuantiles() )     # Quantiles are returned in units of phi "
   ]
  },
  {
   "cell_type": "markdown",
   "metadata": {},
   "source": [
    "#### Plot histogram and CDF for sample data:"
   ]
  },
  {
   "cell_type": "code",
   "execution_count": 5,
   "metadata": {},
   "outputs": [
    {
     "name": "stdout",
     "output_type": "stream",
     "text": [
      "\n"
     ]
    },
    {
     "data": {
      "image/png": "[encoded data removed]",
      "text/plain": [
       "<Figure size 1512x504 with 2 Axes>"
      ]
     },
     "metadata": {},
     "output_type": "display_data"
    },
    {
     "name": "stdout",
     "output_type": "stream",
     "text": [
      "------------------------------------------------------------------------------------------\n"
     ]
    }
   ],
   "source": [
    "ssc.PLOTDualSampleWeightPercents()\n",
    "\n",
    "## By default the Plot methods write their output to the computer screen. By setting the \n",
    "## PrintTo argument to 'file' a copy of the plot is printed to a PNG file and placed in\n",
    "## the local directory. For example:\n",
    "\n",
    "## ssc.PLOTDualSampleWeightPercents(printTo='file')\n",
    "\n",
    "## note that Python is case sensitive."
   ]
  },
  {
   "cell_type": "markdown",
   "metadata": {},
   "source": [
    "#### Save results to a Comma-Separated Values (csv) text file:"
   ]
  },
  {
   "cell_type": "code",
   "execution_count": null,
   "metadata": {},
   "outputs": [],
   "source": [
    "## saves the contents of the df_out dataframe to a csv file:\n",
    "df_out.to_csv('./single_sample_results.csv')"
   ]
  }
 ],
 "metadata": {
  "celltoolbar": "Slideshow",
  "kernelspec": {
   "display_name": "Python 3",
   "language": "python",
   "name": "python3"
  },
  "language_info": {
   "codemirror_mode": {
    "name": "ipython",
    "version": 3
   },
   "file_extension": ".py",
   "mimetype": "text/x-python",
   "name": "python",
   "nbconvert_exporter": "python",
   "pygments_lexer": "ipython3",
   "version": "3.6.5"
  }
 },
 "nbformat": 4,
 "nbformat_minor": 2
}
