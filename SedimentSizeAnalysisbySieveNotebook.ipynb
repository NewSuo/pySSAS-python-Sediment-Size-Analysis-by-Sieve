{
 "cells": [
  {
   "cell_type": "markdown",
   "metadata": {
    "slideshow": {
     "slide_type": "slide"
    }
   },
   "source": [
    "# Sediment Size Analysis by Sieve (SedSAS) Class "
   ]
  },
  {
   "cell_type": "markdown",
   "metadata": {
    "slideshow": {
     "slide_type": "slide"
    }
   },
   "source": [
    "## Part I: Introduction:\n",
    "\n",
    "SedSAS is a class object written in the Python programming (scripting) language. Its purpose is to provide a set of basic software-based statistical and visualization tools for analyzing unconsolidated sediment size-fraction samples collected in the field and separated using either mechanical sieves or similar analog partition-by-size methods. \n",
    "\n",
    "The script is a stand-alone ASCII-compliant text file with UNIX record delimiters (\\n). It can be called via user-built Python scripts (using this guide to get the user started), or through environments such as this one (Jupyter notebooks). In addition to this notebook, a small collection of sample scripts are supplied in this repository to make both learning and using the SedSAS class as simple and unobtrusive as possible. \n",
    "\n",
    "You can use this notebook not only as a learning tool but also as a template from which to directly conduct your own analyses. The notebook can be modified, or copied and then the copy modified, as you see fit. "
   ]
  },
  {
   "cell_type": "markdown",
   "metadata": {},
   "source": [
    "### What can the SedSAS class do:\n",
    "\n",
    "**From a sample file of fractional ($\\phi$) weights compiled from sediment partitioned by size (via mechanical sieving or similar), the methods in the SedSAS Class can do the following:**\n",
    "- compute weight percentages and cumulative weight percentages for each $\\phi$ fraction relative to the total sample\n",
    "- derive and compute the mean, median, and sorting (standard deviation) in $\\phi$ units using the graphic method described by Folk (1980)\n",
    "- compute the mean and sorting (standard deviation) in $\\phi$ units using the method of moments (MoM) as described by Folk (1980)\n",
    "- derive the distribution's modes in $\\phi$ and weight percentage units\n",
    "- generate a histogram (bins=#sieves) with frequency curve and cumulative frequency curve for sample weight percentages and cumulative weight percentages\n",
    "\n",
    "- compute weight and cumulative weight percentages, graphic and MoM statistics and modes, and write these results either to standard out or to a comma-separated text file"
   ]
  },
  {
   "cell_type": "markdown",
   "metadata": {
    "slideshow": {
     "slide_type": "slide"
    }
   },
   "source": [
    "#### The graphical statistics computational formulae used by the SedSAS Class (per Folk, 1980):\n",
    "\n",
    "$$ mean={ \\phi_{16} + \\phi_{50}+\\phi_{84} \\over 3 } $$\n",
    "<br>\n",
    "$$ median=\\phi_{50} $$\n",
    "<br>\n",
    "$$ sorting = {\\phi_{16} + \\phi_{84} \\over 4} + {\\phi_{95} - \\phi_{5} \\over 6.6 } $$\n",
    "<br>\n",
    "$$ skewness = {\\phi_{16} + \\phi_{84} - 2\\phi_{50} \\over 2(\\phi_{84} - \\phi_{16}) } + {\\phi_{5} + \\phi_{95} - 2\\phi_{50} \\over 2(\\phi_{95} - \\phi_{5}) } $$\n",
    "<br>\n",
    "$$ kurtosis = {\\phi_{95} - \\phi_{5} \\over 2.44(\\phi_{75} - \\phi_{25}) } $$ "
   ]
  },
  {
   "cell_type": "markdown",
   "metadata": {
    "slideshow": {
     "slide_type": "slide"
    }
   },
   "source": [
    "#### The method of moment computational statistics formulae used by SedSAS Class (per Folk, 1980):\n",
    "\n",
    "$$ \\phi \\enspace arithmetic \\enspace mean \\enspace (M_{\\phi}) = {\\sum{DW} \\over \\sum{W} }  $$\n",
    "<br><br>\n",
    "$$ standard \\enspace deviation \\enspace (\\sigma_{\\phi}) = \\sqrt{\\sum{[W(M_{\\phi}-D)^2] } \\over \\sum{W}} $$\n",
    "<br>\n",
    "<br>\n",
    "**where:**<br>\n",
    "- D = sieve size fraction (bin) mid-point <br>\n",
    "- W = sieve size fraction weight (in grams) <br>\n",
    "- M$\\phi$ = the computed method of moments mean"
   ]
  },
  {
   "cell_type": "markdown",
   "metadata": {},
   "source": [
    "**Reference:** 'Folk, R. 1980. Petrology of Sedimentary Rocks. Hemphill Publishing Company, Austin, TX. 184p."
   ]
  },
  {
   "cell_type": "markdown",
   "metadata": {},
   "source": [
    "## Part II Using the SedSAS Class"
   ]
  },
  {
   "cell_type": "markdown",
   "metadata": {
    "slideshow": {
     "slide_type": "slide"
    }
   },
   "source": [
    "### Guide to understanding and using the SedSAS Class:<a name=\"Guide\"></a>\n",
    "\n",
    "This is a basic but hopefully sufficient guide to setting up and using the SedSASClass for analyzing sediment sample data. Click on the links for more information and example(s)\n",
    "\n",
    "- #### Preliminaries:\n",
    "    - Required Python (Part I): The SedSASClass, this notebook, and all supporting materials were developed in a Python 3.x environment. Neither the class nor any of these supporting materials have been tested using a Python 2.x distro. *Backward compatibility is expected, but not assured.*\n",
    "    \n",
    "    - Required Python (Part II): If you do not have Python (version 3.), your best bet for a trouble-free install experience can be had here: Continuum Analytics: https://www.continuum.io Anaconda. If you're more adventurous, try the Python Software Foundation: https://www.python.org/getit/. \n",
    "    \n",
    "    - [Required external Python Libraries and modules](#Required Libraries) List of required installed Python libraries (e.g., numpy, scipy, pandas) needed by the SedSASClass\n",
    "    \n",
    "    - [User inputs](#User Inputs) Information to be provided by the user, needed to initiate and use the class\n",
    "    \n",
    "    - [Structuring Input Data](#Structuring) This very important step prepares the raw sediment weights data for loading into the pandas data frame that will passed to SedSAS class at instantiation. \n",
    "\n",
    "    - [Reading the source data into the pandas data frame](#Readingthesource): Loading the source data\n",
    "    \n",
    "    - [Creating a SedSAS class instance](#instantiatingclass): creating an instance of the SedSAS class. You must create this instance before you can call any of the methods that follow.\n",
    "    \n",
    "- #### User-callable Class Methods:\n",
    "    - Computational Methods:\n",
    "        - [InterpolateQuantileValues](#InterpolateQuantileValues): computes the sample data values for the  quantiles (per Folk, 1980)\n",
    "<br>    \n",
    "        - [ComputeGraphicStats](#graphic stats): compute graphical statistics (mean, median, standard deviation, skewness, and kurtosis) for the sample data as described by Folk, 1980 and others.\n",
    "<br>    \n",
    "        - [ComputeMomentStats](#moment stats): computes the mean and standard deviation for the sample data using the method of moment formulae provided by Folk, 1980.\n",
    "<br>    \n",
    "        - [FindSampleModes](#sample modes): locates and reports [up to] the first three sample mode values seen in the sample data\n",
    "    <br><br>\n",
    "    - Plotting and Console Reporting Methods:\n",
    "        - [PrintSampleWeightsDataTable](#print weight data table): prints the sample weights, percent sampled weights, cumulative weights, and sample quantile values to standard out.\n",
    "<br>    \n",
    "        - [PrintGraphicStats](#print graphic stats): prints the graphical statistics generated by method ComputeGraphicStats formatted to standard out (console)\n",
    "<br>    \n",
    "        - [PrintMomentStats](#print moment stats): prints the method of moment based statistics generated by method ComputeMomentStats formatted to standard out (console)\n",
    "<br>    \n",
    "        - [PrintSampleModes](#print sample modes): prints the modal values detected in the data by method FindSampleModes formatted to standard out (console)\n",
    "<br>    \n",
    "        - [PLOTSampleWtPercents](#plot sample weight percents): generates a histogram of weight percentage values for given sample as generated in the class constructor (__init__) and stored in the dataframe df\n",
    "<br>    \n",
    "        - [PLOTSampleCumWtPercents](#plot cum weight percents): generates a cumulative frequency curve (line) of weight percentage values for given sample as generated in the class constructor (__init__) and stored in the dataframe df\n",
    "<br>    \n",
    "        - [PLOTDualSampleWtPercents](#plot dual sample weights): generates both a histogram and a cumulative frequency curve (line) of weight percentage values for given sample as generated in the class constructor (__init__) and stored in the dataframe df. This is a convenience method that combines the work of PLOTSampleWtPercents and PLOTSampleCumWtPercents into a single function call.\n",
    "<br><br>\n",
    "    - General Methods:\n",
    "        - [GetDataFrame](#get data frame): returns a copy to the pandas data frame df that is built in the SedSASampleClass constructor during initialization and is used throughout the class methods for subsequent computations and reporting. This method will likely prove to be useful when calling SedSASampleClass methods directly (rather than doing streamlined processing-see below).\n",
    "<br><br>\n",
    "    - Streamlined Processing Methods:\n",
    "        - [Analyze2CSV](#analyze2csv): a convenience function that calls ComputeGraphicStats, ComputeMomentStats, and FindSampleModes and writes the results, along with the individual weight percentages, to a comma separated text values file. The user provides a filename when calling this method.\n",
    "   <br>\n",
    "        - [Analyze2Stdout](#analyze2stdout): another convenience function that performs much the same work as Analyze2CSV but instead of writing to a file, outputs results all to standard out."
   ]
  },
  {
   "cell_type": "markdown",
   "metadata": {
    "slideshow": {
     "slide_type": "slide"
    }
   },
   "source": [
    "## Part III: Using the class:"
   ]
  },
  {
   "cell_type": "markdown",
   "metadata": {},
   "source": [
    "#### a.) Required libraries and modules:<a name=\"Required Libraries\"></a>\n",
    "\n",
    "The SedSASClass will call and attempt to load into the class namespace the following Python libraries:\n",
    "\n",
    "- sys\n",
    "- pandas\n",
    "- numpy\n",
    "- matplotlib.pyplot\n",
    "\n",
    "These should be installed in your Python environment prior to working with the SedSASClass. Note that the class itself will call these at instantiation.\n",
    "\n",
    "If your script is in a directory other than the same one where the SedSASClass file itself is stored you will have to amend the system's path variable (only for this namespace and only while the current namespace exists). You can do this with the sys.path.append command:\n",
    "\n",
    "        import sys\n",
    "        sys.path.append(' </path/to/class/location/> ')\n",
    "        \n",
    "[Back to Guide](#Guide)"
   ]
  },
  {
   "cell_type": "markdown",
   "metadata": {
    "slideshow": {
     "slide_type": "slide"
    }
   },
   "source": [
    "#### b.) Required User Inputs: <a name=\"User Inputs\"></a>\n",
    "\n",
    "Here's what you need to provide up front in order to make use of the class\n",
    "\n",
    "    - full (absolute) path to the sediment sample weights data file\n",
    "    - name of the sediment sample weights data file (w/extension). This is the file that contains all of your sieved sample weights.\n",
    "    - Python list of transect ids\n",
    "    - Python list of sample ids per transect\n",
    "    - Python list of sieve [screen] sizes used in the analysis\n",
    "    \n",
    "See the example that follows.\n",
    "    \n",
    "[Back to Guide](#Guide)"
   ]
  },
  {
   "cell_type": "code",
   "execution_count": 1,
   "metadata": {
    "collapsed": true,
    "slideshow": {
     "slide_type": "-"
    }
   },
   "outputs": [],
   "source": [
    "# ###### USER INPUTS Example ##########################################################\n",
    "# 1.) Enter the absolute (full) path to the file(s) containing the data to be analyzed:\n",
    "fp='/Users/paulp/Dropbox/Projects/SedSAS/'\n",
    "\n",
    "# 2.) Enter the name of the file(s) containing the data to be analyzed:\n",
    "fn='USFWS_PINWR_transect2.txt'\n",
    "\n",
    "# 3.) Set the field delimiter used to separate data columns (fields) in the input file fn:\n",
    "delim=','\n",
    "\n",
    "# 4.) Enter the transect name/id (with the quotes around the name):\n",
    "trList=['T2']  #['T1','T2','T3','T4','T5','T6','T7','T8','T9','T10','T11','T12','T13','T14','T15','T16']    \n",
    "\n",
    "# 5.) Set up the samples list. Modify the existing list as needed:\n",
    "samples=['S1','S2','S3','S4']\n",
    "\n",
    "# 6.) Set up the screens list. Modify the existing list as needed to reflect the sieves \n",
    "# used. Values represent phi screen units:\n",
    "scrns=[-1.0,-0.5,0.0,0.5,1.0,1.25,1.5,1.75,2.0,2.5,3.0,3.5,4.0]"
   ]
  },
  {
   "cell_type": "markdown",
   "metadata": {},
   "source": [
    " #### c.) Structuring the input data <a name=\"Structuring\"></a>\n",
    " \n",
    " Perhaps the most difficult aspect of working with this notebook and the SedSASClass is getting your data into a form that can be passed into the class init method (the constructor) during class instantiation. The reason behind the possible difficulty is that the data, which you will submit to the class constructor as a Pandas data frame, needs only select information, probably much less than you captured as part of your lab analyses. Here's what you'll need to supply for each sample record that will be loaded into the data frame df:\n",
    "\n",
    "    - the transect id\n",
    "    - the sample number\n",
    "    - the individual sieved sediment weights (grams are assumed for report labeling, but the actual weight units of the data have no bearing on the computations carried out in SedSASampleClass. A typical text file might be formatted like this:\n",
    "\n",
    "    TRANSECT, SAMPLE, Phi_01, Phi_05, Phi_00,...,Phi_5\n",
    "\n",
    "from here, you can use a Pandas method such as read_csv or read_table to load your raw data into a data frame. Optionally, you can read your raw data from a Microsoft Excel spreadsheet using the Pandas read_xls method. Examples are provided elsewhere in this notebook.\n",
    "\n",
    "[Back to Guide](#Guide)"
   ]
  },
  {
   "cell_type": "markdown",
   "metadata": {},
   "source": [
    "#### c.) Reading the source data into a pandas data frame: <a name=\"Readingthesource\"></a>\n",
    "\n",
    "In order to be able to create an instance of the SedSAS class you first must load your source data into a pandas data frame. Fortunately, this is a simple, often single-line, process. Once the source data is loaded,you must re-work the data in the data frame so that only the following columns remain:\n",
    "\n",
    "- Transect id, Sample id, individual sieved fraction weights for each sample from coarsest to finest--one screen weight per column. \n",
    "\n",
    "See an example in\n",
    "the following code section.\n",
    "\n",
    "\n",
    "[Back to Guide](#Guide)"
   ]
  },
  {
   "cell_type": "code",
   "execution_count": 3,
   "metadata": {
    "collapsed": false
   },
   "outputs": [
    {
     "data": {
      "text/html": [
       "<div>\n",
       "<table border=\"1\" class=\"dataframe\">\n",
       "  <thead>\n",
       "    <tr style=\"text-align: right;\">\n",
       "      <th></th>\n",
       "      <th>Transect</th>\n",
       "      <th>Sample</th>\n",
       "      <th>-1.0phi</th>\n",
       "      <th>-0.5phi</th>\n",
       "      <th>0phi</th>\n",
       "      <th>0.5phi</th>\n",
       "      <th>1.0phi</th>\n",
       "      <th>1.25phi</th>\n",
       "      <th>1.5phi</th>\n",
       "      <th>1.75phi</th>\n",
       "      <th>2.0phi</th>\n",
       "      <th>2.5phi</th>\n",
       "      <th>3.0phi</th>\n",
       "      <th>3.5phi</th>\n",
       "      <th>remainder</th>\n",
       "    </tr>\n",
       "  </thead>\n",
       "  <tbody>\n",
       "    <tr>\n",
       "      <th>0</th>\n",
       "      <td>T2</td>\n",
       "      <td>S1</td>\n",
       "      <td>37.89</td>\n",
       "      <td>23.31</td>\n",
       "      <td>12.74</td>\n",
       "      <td>4.40</td>\n",
       "      <td>2.25</td>\n",
       "      <td>0.52</td>\n",
       "      <td>0.99</td>\n",
       "      <td>0.37</td>\n",
       "      <td>0.93</td>\n",
       "      <td>0.57</td>\n",
       "      <td>0.42</td>\n",
       "      <td>0.10</td>\n",
       "      <td>0.04</td>\n",
       "    </tr>\n",
       "    <tr>\n",
       "      <th>1</th>\n",
       "      <td>T2</td>\n",
       "      <td>S2</td>\n",
       "      <td>3.19</td>\n",
       "      <td>8.46</td>\n",
       "      <td>16.50</td>\n",
       "      <td>17.00</td>\n",
       "      <td>14.61</td>\n",
       "      <td>3.58</td>\n",
       "      <td>2.64</td>\n",
       "      <td>0.98</td>\n",
       "      <td>0.64</td>\n",
       "      <td>0.29</td>\n",
       "      <td>0.15</td>\n",
       "      <td>0.07</td>\n",
       "      <td>0.03</td>\n",
       "    </tr>\n",
       "    <tr>\n",
       "      <th>2</th>\n",
       "      <td>T2</td>\n",
       "      <td>S3</td>\n",
       "      <td>1.47</td>\n",
       "      <td>1.88</td>\n",
       "      <td>2.16</td>\n",
       "      <td>2.99</td>\n",
       "      <td>13.51</td>\n",
       "      <td>8.53</td>\n",
       "      <td>9.98</td>\n",
       "      <td>5.63</td>\n",
       "      <td>5.32</td>\n",
       "      <td>1.58</td>\n",
       "      <td>0.03</td>\n",
       "      <td>0.01</td>\n",
       "      <td>0.01</td>\n",
       "    </tr>\n",
       "    <tr>\n",
       "      <th>3</th>\n",
       "      <td>T2</td>\n",
       "      <td>S4</td>\n",
       "      <td>0.70</td>\n",
       "      <td>0.46</td>\n",
       "      <td>1.40</td>\n",
       "      <td>3.73</td>\n",
       "      <td>10.85</td>\n",
       "      <td>9.07</td>\n",
       "      <td>17.28</td>\n",
       "      <td>17.54</td>\n",
       "      <td>23.67</td>\n",
       "      <td>11.05</td>\n",
       "      <td>3.72</td>\n",
       "      <td>0.92</td>\n",
       "      <td>0.07</td>\n",
       "    </tr>\n",
       "  </tbody>\n",
       "</table>\n",
       "</div>"
      ],
      "text/plain": [
       "  Transect Sample  -1.0phi  -0.5phi   0phi  0.5phi  1.0phi  1.25phi  1.5phi  \\\n",
       "0       T2     S1    37.89    23.31  12.74    4.40    2.25     0.52    0.99   \n",
       "1       T2     S2     3.19     8.46  16.50   17.00   14.61     3.58    2.64   \n",
       "2       T2     S3     1.47     1.88   2.16    2.99   13.51     8.53    9.98   \n",
       "3       T2     S4     0.70     0.46   1.40    3.73   10.85     9.07   17.28   \n",
       "\n",
       "   1.75phi  2.0phi  2.5phi  3.0phi  3.5phi  remainder  \n",
       "0     0.37    0.93    0.57    0.42    0.10       0.04  \n",
       "1     0.98    0.64    0.29    0.15    0.07       0.03  \n",
       "2     5.63    5.32    1.58    0.03    0.01       0.01  \n",
       "3    17.54   23.67   11.05    3.72    0.92       0.07  "
      ]
     },
     "execution_count": 3,
     "metadata": {},
     "output_type": "execute_result"
    }
   ],
   "source": [
    "# read the data from the source file into the data frame. The read_csv function reads data \n",
    "# from a comma separated values file. Optionally, read table or read_xls can be used instead \n",
    "# to read in values from text files using a different record delimiter, or from a Microsoft\n",
    "# Excel spreadsheet, respectively.\n",
    "\n",
    "df = pd.read_csv(fp+fn)\n",
    "\n",
    "# here we drop unwanted columns (use df.columns() to get list of column names loaded to df)\n",
    "df=df.drop(['Pan Weight','Wet Sample Weight'], axis=1)\n",
    "df.head()                 # print the first 5 records in data frame df"
   ]
  },
  {
   "cell_type": "markdown",
   "metadata": {},
   "source": [
    "#### e.) Creating an instance of the SedSAS Class: <a name=\"instantiatingclass\"></a>\n",
    "\n",
    "When you instantiate the SedSASampleClass in your project you will send a copy of the Pandas dataframe that you create from your raw data, along with the trList, samples list, and scrns list to the constructor (__init__) method. The calls to load and instantiate the class looks like this:\n",
    "\n",
    "import SedSASClass as sc\n",
    "s = sc.SedSASample(df, trList, samples, scrns)\n",
    "\n",
    "\n",
    "[Back to Guide](#Guide)"
   ]
  },
  {
   "cell_type": "code",
   "execution_count": null,
   "metadata": {
    "collapsed": false
   },
   "outputs": [],
   "source": [
    "# import and then create an instance of the SedSAS class:\n",
    "\n",
    "import SedSASClass as sc\n",
    "s = sc.SedSASample(df, trList, samples, scrns)"
   ]
  },
  {
   "cell_type": "markdown",
   "metadata": {},
   "source": [
    "#### Starter script <a name=\"Starter Script\"></a>\n",
    "\n",
    "Use this script (in the cell that follows) to import the needed libraries, set the necessary variables, create an instance for SedSAS, and import the sample weights data into a pandas data frame. Once completed, the sample scripts associated with each of the class methods, all described [here](#Guide) can be executed. \n",
    "\n",
    "To run the starter script simply click on the cell (the code cell that follows) and run the cell (Cell -> Run Cells or the run button on the toolbar--it looks like the schematic symbol for a diode)"
   ]
  },
  {
   "cell_type": "code",
   "execution_count": 7,
   "metadata": {
    "collapsed": false
   },
   "outputs": [
    {
     "name": "stdout",
     "output_type": "stream",
     "text": [
      "\n",
      " Starter Script Completed\n"
     ]
    }
   ],
   "source": [
    "# Starter script:\n",
    "\n",
    "import sys\n",
    "import pandas as pd\n",
    "\n",
    "# adding the sys.path variable to point to the SedSASClass.py file:\n",
    "sys.path.append('/Users/paulp/Googledrive/projects/SedSAS/')\n",
    "\n",
    "import SedSASClass\n",
    "\n",
    "fp='/Users/paulp/Googledrive/projects/SedSAS/'\n",
    "fn='USFWS_PINWR_transect2.txt'\n",
    "delim=','\n",
    "tr='T2'  \n",
    "samples=['S1','S2','S3','S4']\n",
    "scrns=[-1.0,-0.5,0.0,0.5,1.0,1.25,1.5,1.75,2.0,2.5,3.0,3.5,4.0]\n",
    "\n",
    "df = pd.read_csv(fp+fn)\n",
    "df=df.drop(['Pan Weight','Wet Sample Weight'], axis=1)\n",
    "\n",
    "print('\\n', 'Starter Script Completed')"
   ]
  },
  {
   "cell_type": "markdown",
   "metadata": {},
   "source": [
    "### Class Method Definitions/Descriptions:"
   ]
  },
  {
   "cell_type": "markdown",
   "metadata": {},
   "source": [
    "#### InterpolateQuantileValues <a name=\"InterpolateQuantileValues\"></a> \n",
    "\n",
    "interpolate quantiles in self.quantilesList for each transect sample. Calls internal function  ReturnQuantile() for each quantile value to be computed from the seived weights.  \n",
    "\n",
    "quantilesList=list of quantiles that will be interpolated to compute statistics.\n",
    "These are fixed, based on requirements from Folk, (1980).\n",
    "\t\t\n",
    "        self.quantilesList=[5,10,16,25,50,75,84,90,95] \n",
    "\n",
    "Input args: none\n",
    "\n",
    "Returns: an ordered Python dictionary (key=sample identifier; value=interpolated quantile list). Quantiles returned in phi units.\n",
    "               \n",
    "[Back to Guide](#Guide)"
   ]
  },
  {
   "cell_type": "code",
   "execution_count": 28,
   "metadata": {
    "collapsed": false
   },
   "outputs": [
    {
     "name": "stdout",
     "output_type": "stream",
     "text": [
      "\n",
      "Processing transect: T2\n",
      "\n",
      "\n",
      "WARNING: percent of unidfferentiated coarse fraction in sample S1 is: 44.82 --Values in excess of 5% can introduce significant error in resulting statistical computations.\n",
      "Quantiles for Sample: S1 = [nan, nan, nan, nan, -0.91, -0.41, -0.12, 0.24, 0.94]\n",
      "Quantiles for Sample: S2 = [-0.99, -0.79, -0.54, -0.34, 0.17, 0.7, 0.91, 1.11, 1.38]\n",
      "Quantiles for Sample: S3 = [-0.68, -0.05, 0.5, 0.68, 1.13, 1.48, 1.68, 1.83, 1.95]\n",
      "Quantiles for Sample: S4 = [0.33, 0.67, 0.95, 1.22, 1.6, 1.9, 2.0, 2.26, 2.49]\n"
     ]
    }
   ],
   "source": [
    "### EXAMPLE: calling method InterpolateQuantileValues\n",
    "\n",
    "# NOTE: be sure to run the starter script before trying to access InterpolateQuantileValues\n",
    " \n",
    "trList=['T2']   \n",
    "for tr in trList:\n",
    "    sc = SedSASClass.SedSAS(df, tr, samples, scrns)\n",
    "    D=sc.InterpolateQuantileValues()\n",
    "    \n",
    "    for key, val in D.items():\n",
    "        print('Quantiles for Sample:', key, '=', val)\n"
   ]
  },
  {
   "cell_type": "markdown",
   "metadata": {},
   "source": [
    "#### ComputeGraphicStats <a name=\"graphic stats\"></a> \n",
    "\n",
    "computes \"graphic\" mean, median, standard deviation, skewness, and kurtosis (per Folk, 1980) for a given transect sample.\n",
    "\n",
    "Input args:\n",
    "\ts  sample identifier as a Python string (EX. 'S1')\n",
    "\tQ  list of interpolated quantile values (9 items) for current sample\n",
    "\n",
    "Returns: Python tuple containing MN=mean, MD=median, SD=std. dev., SK=skewness, K=kurtosis in phi units.\n",
    "        \n",
    "[Back to Guide](#Guide)"
   ]
  },
  {
   "cell_type": "code",
   "execution_count": null,
   "metadata": {
    "collapsed": true
   },
   "outputs": [],
   "source": [
    "### EXAMPLE: calling method ComputeGraphicStats"
   ]
  },
  {
   "cell_type": "markdown",
   "metadata": {},
   "source": [
    "#### ComputeMomentStats <a name=\"moment stats\"></a> \n",
    "\n",
    "computes the sediment sample mean and standard deviation using the arithmetic method of moments method as described by Folk (1980) for current sample.\n",
    "\n",
    "Input args:\n",
    "\ts = sample identifier as a Python string (EX. 'S1')\n",
    "\n",
    "Returns:\n",
    "\tPython tuple containing momMean=mean, momSD=standard deviation,\n",
    "\tundifCF=undifferentiated coarse fraction (the weight of material\n",
    "\tcaptured by the coarsest sieve), undifFF=undifferentiated fine \n",
    "\tfraction (the weight of material captured by the residual pan at \n",
    "\tthe bottom of the seive stack).\n",
    "                         \n",
    "[Back to Guide](#Guide)"
   ]
  },
  {
   "cell_type": "code",
   "execution_count": null,
   "metadata": {
    "collapsed": true
   },
   "outputs": [],
   "source": [
    "### EXAMPLE: Calling method ComputeMomentStats"
   ]
  },
  {
   "cell_type": "markdown",
   "metadata": {},
   "source": [
    "#### FindSampleModes <a name=\"sample modes\"></a> \n",
    "\n",
    "locates any modal weight percentage values in current sample. \n",
    "\n",
    "Input args: \n",
    "\ts = sample identifier as a Python string (EX. 'S1)\n",
    "\n",
    "Returns: Python ordered dictionary of modes (if any) found in the current \n",
    "\t\t sample. The dictionary key contains the mode in phi size units. \n",
    "\t\t The dictionary values are the modes in weight percentages.\n",
    "                    \n",
    "[Back to Guide](#Guide)"
   ]
  },
  {
   "cell_type": "code",
   "execution_count": null,
   "metadata": {
    "collapsed": true
   },
   "outputs": [],
   "source": [
    "### EXAMPLE: Calling method FndSampleModes"
   ]
  },
  {
   "cell_type": "markdown",
   "metadata": {},
   "source": [
    "#### PrintSampleWeightsDataTable <a name=\"print weight data table\"></a> \n",
    "\n",
    "prints the raw, weight percentage, and cumulative weight percentage values in tabular format for each screen bin to standard output (terminal or console window).\n",
    "\n",
    "Input args: \n",
    "\ts = sample identifier as a Python string (EX. 'S1)\n",
    "\n",
    "    Returns: none\n",
    "            \n",
    "[Back to Guide](#Guide)"
   ]
  },
  {
   "cell_type": "code",
   "execution_count": null,
   "metadata": {
    "collapsed": true
   },
   "outputs": [],
   "source": [
    "### EXAMPLE: calling method PrintSampleWeightsDataTable"
   ]
  },
  {
   "cell_type": "markdown",
   "metadata": {},
   "source": [
    "#### PrintGraphicStats <a name=\"print graphic stats\"></a> \n",
    "\n",
    "prints the graphic mean, median, standard deviation, skewness, and kurtosis for each transect sample in tabular format to the console. \n",
    "\n",
    "Input args:\n",
    "\ts = sample identifier as a Python string (EX. 'S1)\n",
    "\tgStats = Python tuple containing the graphic mean, median, std. dev.skewness and kurtosis.\n",
    "\n",
    "Returns: none\n",
    "\n",
    "Note: the gStats tuple is generated by method self.ComputeGraphicStats()\n",
    "             \n",
    "[Back to Guide](#Guide)"
   ]
  },
  {
   "cell_type": "code",
   "execution_count": null,
   "metadata": {
    "collapsed": true
   },
   "outputs": [],
   "source": [
    "### EXAMPLE: calling method PrintGraphicStats"
   ]
  },
  {
   "cell_type": "markdown",
   "metadata": {},
   "source": [
    "#### PrintMomentStats <a name=\"print moment stats\"></a> \n",
    "\n",
    "prints the method of moments computed sediment size mean and standard deviation and undifferentiated coarse and fine fractions for the sample in tabular format to the console.\n",
    "\n",
    "Input args: \n",
    "    mStats = Python tuple containing method of moments mean, std. dev., \n",
    "\t\t\t undiff. coarse fraction weight, undiff fine fraction weight.\n",
    "\n",
    "Returns: none\n",
    "\n",
    "Note: the mStats tuple is generated by method self.ComputeMomentStats()\n",
    "            \n",
    "[Back to Guide](#Guide)"
   ]
  },
  {
   "cell_type": "code",
   "execution_count": null,
   "metadata": {
    "collapsed": true
   },
   "outputs": [],
   "source": [
    "### EXAMPLE: calling method PrintMomentStats"
   ]
  },
  {
   "cell_type": "markdown",
   "metadata": {},
   "source": [
    "#### PrntSampleModes <a name=\"print sample modes\"></a> \n",
    "\n",
    "\t\t'''Prints the mode values located in method FindSampleModes to the console\n",
    "\n",
    "\t\t   Input args:\n",
    "\t\t\t   modes = Python dictionary containing key (mode in phi units) and value\n",
    "\t\t\t\t\t   (mode in weight percent) pairs\n",
    "\n",
    "\t\t   Returns: none\n",
    "\t\t\n",
    "[Back to Guide](#Guide)"
   ]
  },
  {
   "cell_type": "code",
   "execution_count": null,
   "metadata": {
    "collapsed": true
   },
   "outputs": [],
   "source": [
    "### Example: calling method PrintSampleModes"
   ]
  },
  {
   "cell_type": "markdown",
   "metadata": {},
   "source": [
    "#### PLOTSampleWtPercents <a name=\"plot sample weight percents\"></a> \n",
    "\n",
    "plots the individual sample weight percentages, by sieve fraction as a histogram and overprinted frequency (PDF) curve for the current sample. Can plot to console or to stored PNG file.\n",
    "\n",
    "Input args:\n",
    "    s = sample identifier as a Python string (EX. 'S1)\n",
    "    mode = plot destination: mode='print' plot written to console (default)\n",
    "     mode='save' plot written to png output\n",
    "     \n",
    "Returns: none\n",
    "                                               \n",
    "[Back to Guide](#Guide)"
   ]
  },
  {
   "cell_type": "code",
   "execution_count": null,
   "metadata": {
    "collapsed": true
   },
   "outputs": [],
   "source": [
    "### EXAMPLE: Calling method PLOTSampleWtPercents"
   ]
  },
  {
   "cell_type": "markdown",
   "metadata": {},
   "source": [
    "#### PLOTSampleCumWtPercents <a name=\"plot cum weight percents\"></a> \n",
    "\n",
    "plots the individual sample cumulative weight percentages, by sieve fraction as a cunulative frequency (CDF) curve for the current transect sample. Can plot to console or to stored PNG file.\n",
    "\n",
    "Input args:\n",
    "    s = sample identifier as a Python string (EX. 'S1)\n",
    "    mode = plot destination: mode='print' plot written to console (default)\n",
    "    mode='save' plot written to png output\n",
    "\t\t\t\t\t\t\t\t\t\t\t   \n",
    "Returns: none\n",
    "            \n",
    "[Back to Guide](#Guide)"
   ]
  },
  {
   "cell_type": "code",
   "execution_count": null,
   "metadata": {
    "collapsed": true
   },
   "outputs": [],
   "source": [
    "### EXAMPLE: Calling method PLOTSampleCumWtPercents"
   ]
  },
  {
   "cell_type": "markdown",
   "metadata": {},
   "source": [
    "#### PLOTDualSampleWtPercents <a name=\"plot dual sample weights\"></a> \n",
    "\n",
    "plots both the weight percentage and cumulative weight percentage histogram and curves (histo+PDF, and CDF) side by side and together, by sieve fraction for the current transect sample. Can plot to console or to stored PNG file.\n",
    "\n",
    "Input args:\n",
    "    s = sample identifier as a Python string (EX. 'S1)\n",
    "    mode = plot destination: mode='print' plot written to console (default)\n",
    "    mode='save' plot written to png output\n",
    "\t\t\t\t\t\t\t\t\t\t\t   \n",
    "Returns: none\n",
    "\n",
    "Note: This is just a convenient combination of methods PLOTSampleWtPercents and PLOTSampleCumWtPercents.\n",
    "                \n",
    "[Back to Guide](#Guide)"
   ]
  },
  {
   "cell_type": "code",
   "execution_count": null,
   "metadata": {
    "collapsed": true
   },
   "outputs": [],
   "source": [
    "### EXAMPLE: Calling method PLOTDualSampleWtPercents"
   ]
  },
  {
   "cell_type": "markdown",
   "metadata": {},
   "source": [
    "#### GetDataFrame <a name=\"get data frame\"></a> \n",
    "\n",
    "returns the sample set data frame df to the caller.\n",
    "\n",
    "Input args: none\n",
    "\n",
    "Returns: pandas dataframe for the current sample data\n",
    "           \n",
    "[Back to Guide](#Guide)"
   ]
  },
  {
   "cell_type": "code",
   "execution_count": null,
   "metadata": {
    "collapsed": true
   },
   "outputs": [],
   "source": [
    "### EXAMPLE: Calling method GetDataFrame"
   ]
  },
  {
   "cell_type": "markdown",
   "metadata": {},
   "source": [
    "#### Analyze2csv <a name=\"analyze2csv\"></a> \n",
    "\n",
    "performs internal processing (without need for the user to call the individual methods explicitly/directly) to compile the raw data, weight percentages, cumulative weight percentages, graphic and method of moment statistics, and the mode(s). All of these are written directly to an output file (user specified path and file name) formatted as comma separated values. \n",
    "\n",
    "Input args: \n",
    "    fn = user-defined output file name\n",
    "\n",
    "Returns: none\n",
    "            \n",
    "[Back to Guide](#Guide)"
   ]
  },
  {
   "cell_type": "code",
   "execution_count": null,
   "metadata": {
    "collapsed": true
   },
   "outputs": [],
   "source": [
    "### EXAMPLE: Calling method Analyze2csv"
   ]
  },
  {
   "cell_type": "markdown",
   "metadata": {},
   "source": [
    "#### Analyze2stdout <a name=\"analyze2stdout\"></a> \n",
    "\n",
    "performs internal processing (without need for the user to call the individual methods explicitly/directly) to compile the raw data, weight percentages, cumulative weight percentages, graphic and method-of-moment statistics, andthe mode(s)  All of the these are written directly, formatted to standard out.\n",
    "\t\t\n",
    "Input args: none\n",
    "\t\t\n",
    "Returns: none\n",
    "        \n",
    "[Back to Guide](#Guide)"
   ]
  },
  {
   "cell_type": "code",
   "execution_count": null,
   "metadata": {
    "collapsed": true
   },
   "outputs": [],
   "source": [
    "### EXAMPLE: Calling method Analyze2stdout"
   ]
  },
  {
   "cell_type": "code",
   "execution_count": null,
   "metadata": {
    "collapsed": true
   },
   "outputs": [],
   "source": []
  },
  {
   "cell_type": "code",
   "execution_count": null,
   "metadata": {
    "collapsed": true
   },
   "outputs": [],
   "source": []
  },
  {
   "cell_type": "code",
   "execution_count": 8,
   "metadata": {
    "collapsed": false
   },
   "outputs": [
    {
     "name": "stdout",
     "output_type": "stream",
     "text": [
      "\n",
      "Processing transect: T2\n",
      "\n",
      "\n",
      "WARNING: percent of unidfferentiated coarse fraction in sample S1 is: 44.82 --Values in excess of 5% can introduce significant error in resulting statistical computations.\n",
      "Sample: S1\n",
      "--------------------------------------------------------------------------------\n",
      "Graphic-Derived Sample Grain Size Statistics (Folk, 1980), Transect: T2   Sample: S1\n",
      "Est. Graphic Mean: Out of Range*\n",
      "Est. Graphic Median -0.91 Phi\n",
      "Est. Graphic Standard Deviation: Out of Range*\n",
      "Est. Graphic Skewness: Out of Range*\n",
      "Est. Graphic Kurtosis: Out of Range*\n",
      "--------------------------------------------------------------------------------\n",
      "* out of range values indicate that one or more quantiles fall outside the screen\n",
      "  range along the cumulative frequency curve.\n",
      "\n",
      "--------------------------------------------------------------------------------\n",
      "--------------------------------------------------------------------------------\n",
      "Method of Moments-derived Sample Grain Size Statistics (Folk, 1980)\n",
      "\n",
      "Mean: -0.23 phi  Standard Deviation: 0.76 phi\n",
      "\n",
      "Coarse Fraction, undifferentiated:  37.89 gm\n",
      "Pan Fraction (fines), undifferentiated:  0.04 gm\n",
      "--------------------------------------------------------------------------------\n",
      "Mode(s):\n",
      "Phi  Weight %\n",
      "-------------------\n",
      "-1.0 44.82432272565953\n",
      "1.5 1.1711818289364722\n",
      "2.0 1.1002011120312316\n",
      "-------------------\n",
      "\n",
      "Sample: S2\n",
      "--------------------------------------------------------------------------------\n",
      "Graphic-Derived Sample Grain Size Statistics (Folk, 1980), Transect: T2   Sample: S2\n",
      "Est. Graphic Mean 0.18 Phi\n",
      "Est. Graphic Median 0.17 Phi\n",
      "Est. Graphic Standard Deviation 0.72 Phi\n",
      "Est. Graphic Skewness 0.02\n",
      "Est. Graphic Kurtosis 0.93\n",
      "--------------------------------------------------------------------------------\n",
      "* out of range values indicate that one or more quantiles fall outside the screen\n",
      "  range along the cumulative frequency curve.\n",
      "\n",
      "--------------------------------------------------------------------------------\n",
      "--------------------------------------------------------------------------------\n",
      "Method of Moments-derived Sample Grain Size Statistics (Folk, 1980)\n",
      "\n",
      "Mean: 0.25 phi  Standard Deviation: 0.66 phi\n",
      "\n",
      "Coarse Fraction, undifferentiated:  3.19 gm\n",
      "Pan Fraction (fines), undifferentiated:  0.03 gm\n",
      "--------------------------------------------------------------------------------\n",
      "Mode(s):\n",
      "Phi  Weight %\n",
      "-------------------\n",
      "0.5 24.94863516289991\n",
      "-------------------\n",
      "\n",
      "Sample: S3\n",
      "--------------------------------------------------------------------------------\n",
      "Graphic-Derived Sample Grain Size Statistics (Folk, 1980), Transect: T2   Sample: S3\n",
      "Est. Graphic Mean 1.1 Phi\n",
      "Est. Graphic Median 1.13 Phi\n",
      "Est. Graphic Standard Deviation 0.69 Phi\n",
      "Est. Graphic Skewness -0.22\n",
      "Est. Graphic Kurtosis 1.35\n",
      "--------------------------------------------------------------------------------\n",
      "* out of range values indicate that one or more quantiles fall outside the screen\n",
      "  range along the cumulative frequency curve.\n",
      "\n",
      "--------------------------------------------------------------------------------\n",
      "--------------------------------------------------------------------------------\n",
      "Method of Moments-derived Sample Grain Size Statistics (Folk, 1980)\n",
      "\n",
      "Mean: 1.07 phi  Standard Deviation: 0.65 phi\n",
      "\n",
      "Coarse Fraction, undifferentiated:  1.47 gm\n",
      "Pan Fraction (fines), undifferentiated:  0.01 gm\n",
      "--------------------------------------------------------------------------------\n",
      "Mode(s):\n",
      "Phi  Weight %\n",
      "-------------------\n",
      "1.0 25.442561205273073\n",
      "1.5 18.794726930320156\n",
      "-------------------\n",
      "\n",
      "Sample: S4\n",
      "--------------------------------------------------------------------------------\n",
      "Graphic-Derived Sample Grain Size Statistics (Folk, 1980), Transect: T2   Sample: S4\n",
      "Est. Graphic Mean 1.52 Phi\n",
      "Est. Graphic Median 1.6 Phi\n",
      "Est. Graphic Standard Deviation 0.59 Phi\n",
      "Est. Graphic Skewness -0.21\n",
      "Est. Graphic Kurtosis 1.3\n",
      "--------------------------------------------------------------------------------\n",
      "* out of range values indicate that one or more quantiles fall outside the screen\n",
      "  range along the cumulative frequency curve.\n",
      "\n",
      "--------------------------------------------------------------------------------\n",
      "--------------------------------------------------------------------------------\n",
      "Method of Moments-derived Sample Grain Size Statistics (Folk, 1980)\n",
      "\n",
      "Mean: 1.54 phi  Standard Deviation: 0.62 phi\n",
      "\n",
      "Coarse Fraction, undifferentiated:  0.7 gm\n",
      "Pan Fraction (fines), undifferentiated:  0.07 gm\n",
      "--------------------------------------------------------------------------------\n",
      "Mode(s):\n",
      "Phi  Weight %\n",
      "-------------------\n",
      "2.0 23.561616563806492\n",
      "1.0 10.800318534740196\n",
      "-1.0 0.6967947441767868\n",
      "-------------------\n",
      "\n",
      "\n"
     ]
    },
    {
     "data": {
      "image/png": "[encoded data removed]",
      "text/plain": [
       "<matplotlib.figure.Figure at 0x10b612240>"
      ]
     },
     "metadata": {},
     "output_type": "display_data"
    },
    {
     "name": "stdout",
     "output_type": "stream",
     "text": [
      "------------------------------------------------------------------------------------------\n",
      "\n"
     ]
    },
    {
     "data": {
      "image/png": "[encoded data removed]",
      "text/plain": [
       "<matplotlib.figure.Figure at 0x10d9140b8>"
      ]
     },
     "metadata": {},
     "output_type": "display_data"
    },
    {
     "name": "stdout",
     "output_type": "stream",
     "text": [
      "------------------------------------------------------------------------------------------\n",
      "\n"
     ]
    },
    {
     "data": {
      "image/png": "[encoded data removed]",
      "text/plain": [
       "<matplotlib.figure.Figure at 0x10d9c3b00>"
      ]
     },
     "metadata": {},
     "output_type": "display_data"
    },
    {
     "name": "stdout",
     "output_type": "stream",
     "text": [
      "------------------------------------------------------------------------------------------\n",
      "\n"
     ]
    },
    {
     "data": {
      "image/png": "[encoded data removed]",
      "text/plain": [
       "<matplotlib.figure.Figure at 0x10da12eb8>"
      ]
     },
     "metadata": {},
     "output_type": "display_data"
    },
    {
     "name": "stdout",
     "output_type": "stream",
     "text": [
      "------------------------------------------------------------------------------------------\n"
     ]
    }
   ],
   "source": [
    "### process, in turn, each sample along each transect listed in the trList (User Inputs cell)\n",
    "import SedSASampleClass as ssc\n",
    "\n",
    "for tr in trList:\n",
    "    inputs=(tr, samples, scrns)\n",
    "    s=ssc.SedSASample(df, tr, samples, scrns)\n",
    "    s.Analyze2Stdout()\n",
    "    D=s.InterpolateQuantileValues()\n",
    "    \n",
    "    for sample, Q in D.items():\n",
    "        s.PLOTDualSampleWtPercents(sample)\n",
    "    \n"
   ]
  },
  {
   "cell_type": "markdown",
   "metadata": {
    "slideshow": {
     "slide_type": "slide"
    }
   },
   "source": [
    "#### 1.) Analyze2CSV - the simplest case     (./Sample Scripts/SedSASampleScript_2CSV.py): "
   ]
  },
  {
   "cell_type": "code",
   "execution_count": null,
   "metadata": {
    "collapsed": false
   },
   "outputs": [],
   "source": [
    "import sys\n",
    "# set the file path to locate the SedSAS class file:\n",
    "sys.path.append('/Users/paulp/Dropbox/projects/SedSAS/')\n",
    "\n",
    "import SedSASampleClass as sssc\n",
    "\n",
    "# loop thru the list of transects in the trList and process the samples for each:\n",
    "for tr in trList:\n",
    "\n",
    "    inputs=(fp,fn,delim,use_cols,tr,samples,scrns)  # argument passed to SedSASample instance from user inputs.\n",
    "    mySand=sssc.SedSASample(inputs)                 # create instance of SedSASample class\n",
    "    mySand.Analyze2CSV(tr+'.csv')\n",
    "    \n",
    "print('Fin!')"
   ]
  },
  {
   "cell_type": "markdown",
   "metadata": {
    "slideshow": {
     "slide_type": "slide"
    }
   },
   "source": [
    "#### No extrapolation..."
   ]
  },
  {
   "cell_type": "markdown",
   "metadata": {
    "slideshow": {
     "slide_type": "-"
    }
   },
   "source": [
    "![title](T2_S1_dual.png) "
   ]
  },
  {
   "cell_type": "markdown",
   "metadata": {
    "slideshow": {
     "slide_type": "slide"
    }
   },
   "source": [
    "#### 2.) Calling methods in your own scripts  (./Sample Scripts/SedSASampleScript.py):"
   ]
  },
  {
   "cell_type": "code",
   "execution_count": null,
   "metadata": {
    "collapsed": false
   },
   "outputs": [],
   "source": [
    "import sys, math\n",
    "sys.path.append('/Users/paulp/Documents/projects/SedSAS/')\n",
    "\n",
    "import SedSASampleClass as sssc\n",
    "\n",
    "# loop thru the list of transects in the trList and process the samples for each:\n",
    "for tr in trList:\n",
    "    # construct argument tuple passed to SASample class instance from user inputs.\n",
    "    inputs=(fp,fn,delim,use_cols,tr,samples,scrns)\n",
    "\n",
    "    mySand=sssc.SedSASample(inputs)\n",
    "    # if you're calling class methods directly (other than Analyze2CSV) you must \n",
    "    # call InterpolateQuantileValues() and return the ordered dictionary D:\n",
    "    D=mySand.InterpolateQuantileValues()\n",
    "    \n",
    "    df=mySand.GetDataFrame()        # return a reference to data frame df\n",
    "    \n",
    "    # to loop thru the samples list for each transect\n",
    "    for s, Q in D.items():\n",
    "    \t# handle situation if the current transect sample set is missing from sample file\n",
    "    \tif( math.isnan( df[s].sum()) == True):  \n",
    "        \tprint('Skipping sample:',tr,s, 'because of missing data...')\n",
    "    \telse:\n",
    "        \tgStats=mySand.ComputeGraphicStats(s,Q)     # compute graphic statistics\n",
    "        \tmStats=mySand.ComputeMomentStats(s)        # compute Method Moment statistics\n",
    "        \tmySand.PrintGraphicStats(s,gStats)\t\t   # write gStats to the console\n",
    "        \tmySand.PrintMomentStats(mStats)            # write mStats to the console\n",
    "             \n",
    "        \tmodes=mySand.FindSampleModes(s)            # find mode(s)\n",
    "        \tmySand.PrintSampleModes(modes)\n",
    "\n",
    "        \t# uncomment the next line to draw a histogram, PDF, and CDF plots\n",
    "        \t# mode=print prints plot to console window; mode=save saves plot to png file\n",
    "        \t#mySand.PLOTDualSampleWtPercents(s, mode='print') \n",
    "             \n",
    "print('Fin!')"
   ]
  },
  {
   "cell_type": "markdown",
   "metadata": {
    "collapsed": true,
    "slideshow": {
     "slide_type": "slide"
    }
   },
   "source": [
    "#### 3.) Using the Report Generator Library (./Sample Scripts/SedSASampleScript_Reporting.py)"
   ]
  },
  {
   "cell_type": "code",
   "execution_count": null,
   "metadata": {
    "collapsed": true
   },
   "outputs": [],
   "source": [
    "# Additional input values for the report generator methods:\n",
    "pname='USFWS - Pea Island National Wildlife Refuge'   # project name\n",
    "smplDate='2/3/2016'                                   # sampling date\n",
    "\n",
    "\n",
    "# loop thru the list of transects in the trList and process the samples for each:\n",
    "for tr in trList:\n",
    "    # construct argument tuple passed to SASample class instance from user inputs.\n",
    "    inputs=(fp,fn,delim,use_cols,tr,samples,scrns)\n",
    "    \n",
    "    # create an SedSASample class instance for the current transect\n",
    "    mySand=sssc.SedSASample(inputs)\n",
    "    \n",
    "    # if you're calling class methods directly (other than Analyze2CSV) you must \n",
    "    # call InterpolateQuantileValues() and return the ordered dictionary D:\n",
    "    D=mySand.InterpolateQuantileValues()\n",
    "    \n",
    "    df=mySand.GetDataFrame()        # return a reference to data frame df\n",
    "    \n",
    "     # to generate the PDF archive report for the current transect call the report constructor:\n",
    "    c=ssrm.SASReportConstructor(pname,tr)\n",
    "    \n",
    "    # to loop thru the samples list for each transect\n",
    "    for s, Q in D.items():\n",
    "    \t# handle situation if the current transect sample set is missing from sample file\n",
    "    \tif( math.isnan( df[s].sum()) == True):  \n",
    "        \tprint('Skipping sample:',tr,s, 'because of missing data...')\n",
    "    \telse:\n",
    "        \tgStats=mySand.ComputeGraphicStats(s,Q)     # compute graphic statistics\n",
    "        \tmStats=mySand.ComputeMomentStats(s)        # compute Method Moment statistics\n",
    "        \tmodes=mySand.FindSampleModes(s)            # find mode(s)\n",
    "        \t\n",
    "        \t# generate a report page for the curent sample s:\n",
    "        \tssrm.SASReportPageDispatcher(c, pname, smplDate, tr, s, df, D, gStats, mStats)\n",
    "        \t\n",
    "    # close out and save the report for the current transect tr:\n",
    "    ssrm.SASReportDestructor(c)\n",
    "    \n",
    "print('Fin!')"
   ]
  },
  {
   "cell_type": "markdown",
   "metadata": {
    "slideshow": {
     "slide_type": "slide"
    }
   },
   "source": [
    "## Part IV: Access"
   ]
  },
  {
   "cell_type": "markdown",
   "metadata": {
    "slideshow": {
     "slide_type": "-"
    }
   },
   "source": [
    "Github:  https://github.com/pjparis/SedSASample"
   ]
  },
  {
   "cell_type": "markdown",
   "metadata": {
    "collapsed": true,
    "slideshow": {
     "slide_type": "slide"
    }
   },
   "source": [
    "## Part V: Where to from here..."
   ]
  }
 ],
 "metadata": {
  "celltoolbar": "Slideshow",
  "kernelspec": {
   "display_name": "Python 3",
   "language": "python",
   "name": "python3"
  },
  "language_info": {
   "codemirror_mode": {
    "name": "ipython",
    "version": 3
   },
   "file_extension": ".py",
   "mimetype": "text/x-python",
   "name": "python",
   "nbconvert_exporter": "python",
   "pygments_lexer": "ipython3",
   "version": "3.5.2"
  }
 },
 "nbformat": 4,
 "nbformat_minor": 0
}
